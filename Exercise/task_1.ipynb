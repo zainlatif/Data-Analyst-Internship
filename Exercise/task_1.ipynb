{
 "cells": [
  {
   "cell_type": "code",
   "execution_count": null,
   "id": "83b1e1d1",
   "metadata": {},
   "outputs": [
    {
     "name": "stdout",
     "output_type": "stream",
     "text": [
      "Original Matrix:\n",
      "[[ 1  2  3]\n",
      " [ 4  5  6]\n",
      " [ 7  8  9]\n",
      " [10 11 12]]\n",
      "\n",
      "Matrix after swapping:\n",
      "[[ 4  5  6]\n",
      " [ 1  2  3]\n",
      " [10 11 12]\n",
      " [ 7  8  9]]\n"
     ]
    }
   ],
   "source": [
    "import numpy as np\n",
    "\n",
    "\n",
    "# Create a sample numpy matrix (2D array)\n",
    "matrix = np.array([\n",
    "    [1, 2, 3],\n",
    "    [4, 5, 6],\n",
    "    [7, 8, 9],\n",
    "    [10, 11, 12]\n",
    "])\n",
    "\n",
    "print(\"Original Matrix:\")\n",
    "print(matrix)\n",
    "\n",
    "# Swap first row with second row\n",
    "matrix[[0, 1]] = matrix[[1, 0]]\n",
    "\n",
    "# Swap last row with its upper row\n",
    "matrix[[-1, -2]] = matrix[[-2, -1]]\n",
    "\n",
    "print(\"\\nMatrix after swapping:\")\n",
    "print(matrix)"
   ]
  },
  {
   "cell_type": "code",
   "execution_count": 6,
   "id": "1f112256",
   "metadata": {},
   "outputs": [
    {
     "name": "stdout",
     "output_type": "stream",
     "text": [
      "\n",
      "DataFrame:\n"
     ]
    }
   ],
   "source": [
    "import pandas as pd\n",
    "df = pd.DataFrame(matrix, columns=['temperature', 'holiday', 'age'])\n",
    "print(\"\\nDataFrame:\")"
   ]
  },
  {
   "cell_type": "code",
   "execution_count": 9,
   "id": "91dde83b",
   "metadata": {},
   "outputs": [
    {
     "name": "stdout",
     "output_type": "stream",
     "text": [
      "   Temperature  Age  Holiday\n",
      "0           23   26        0\n",
      "1           35   22        0\n",
      "2           28   23        0\n",
      "3           16   49        0\n",
      "4           29   47        1\n"
     ]
    }
   ],
   "source": [
    "import pandas as pd\n",
    "import numpy as np\n",
    "\n",
    "# number of rows\n",
    "n = 5  \n",
    "\n",
    "# create random temperature values between 15 and 35\n",
    "temperature = np.random.randint(15, 36, size=n)\n",
    "\n",
    "# create random age values (let’s say 18 to 60)\n",
    "age = np.random.randint(18, 61, size=n)\n",
    "\n",
    "# create random holiday column with 0 or 1\n",
    "holiday = np.random.randint(0, 2, size=n)\n",
    "\n",
    "# make dataframe\n",
    "df = pd.DataFrame({\n",
    "    \"Temperature\": temperature,\n",
    "    \"Age\": age,\n",
    "    \"Holiday\": holiday\n",
    "})\n",
    "\n",
    "print(df)\n"
   ]
  },
  {
   "cell_type": "code",
   "execution_count": null,
   "id": "ff299f65",
   "metadata": {},
   "outputs": [
    {
     "name": "stdout",
     "output_type": "stream",
     "text": [
      " Temperature  Age  Holiday\n",
      "          25   54        0\n",
      "          31   33        1\n",
      "          32   32        1\n",
      "          18   48        0\n",
      "          31   58        1\n"
     ]
    }
   ],
   "source": [
    "import pandas as pd\n",
    "import numpy as np\n",
    "\n",
    "# number of rows\n",
    "n = 5  \n",
    "\n",
    "# create random temperature values between 15 and 35\n",
    "temperature = np.random.randint(15, 36, size=n,)\n",
    "\n",
    "# create random age values (let’s say 18 to 60)\n",
    "age = np.random.randint(18, 61, size=n)\n",
    "\n",
    "# create random holiday column with 0 or 1\n",
    "holiday = np.random.randint(0, 2, size=n)\n",
    "\n",
    "# make dataframe\n",
    "df = pd.DataFrame({\n",
    "    \"Temperature\": temperature,\n",
    "    \"Age\": age,\n",
    "    \"Holiday\": holiday\n",
    "})\n",
    "\n",
    "# print without index\n",
    "print(df.to_string(index=False))\n"
   ]
  },
  {
   "cell_type": "code",
   "execution_count": 11,
   "id": "c53b408e",
   "metadata": {},
   "outputs": [
    {
     "name": "stdout",
     "output_type": "stream",
     "text": [
      "CSV file saved as mydata.csv\n"
     ]
    }
   ],
   "source": [
    "import pandas as pd\n",
    "import numpy as np\n",
    "\n",
    "# number of rows\n",
    "n = 5  \n",
    "\n",
    "# create random data\n",
    "temperature = np.random.randint(15, 36, size=n)\n",
    "age = np.random.randint(18, 61, size=n)\n",
    "holiday = np.random.randint(0, 2, size=n)\n",
    "\n",
    "# make dataframe\n",
    "df = pd.DataFrame({\n",
    "    \"Temperature\": temperature,\n",
    "    \"Age\": age,\n",
    "    \"Holiday\": holiday\n",
    "})\n",
    "\n",
    "# save to CSV (no index)\n",
    "df.to_csv(\"mydata.csv\", index=False)\n",
    "\n",
    "print(\"CSV file saved as mydata.csv\")\n"
   ]
  }
 ],
 "metadata": {
  "kernelspec": {
   "display_name": "Python 3",
   "language": "python",
   "name": "python3"
  },
  "language_info": {
   "codemirror_mode": {
    "name": "ipython",
    "version": 3
   },
   "file_extension": ".py",
   "mimetype": "text/x-python",
   "name": "python",
   "nbconvert_exporter": "python",
   "pygments_lexer": "ipython3",
   "version": "3.13.7"
  }
 },
 "nbformat": 4,
 "nbformat_minor": 5
}
