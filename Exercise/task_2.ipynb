{
 "cells": [
  {
   "cell_type": "code",
   "execution_count": 1,
   "id": "8f688ac9",
   "metadata": {},
   "outputs": [
    {
     "name": "stdout",
     "output_type": "stream",
     "text": [
      "\n",
      "Before swapping:\n",
      "[[ 0  0  0  0  0  0  0  0  0  0]\n",
      " [ 1  1  1  1  1  1  1  1  1  1]\n",
      " [20 21 22 23 24 25 26 27 28 29]\n",
      " [30 31 32 33 34 35 36 37 38 39]\n",
      " [40 41 42 43 44 45 46 47 48 49]\n",
      " [50 51 52 53 54 55 56 57 58 59]\n",
      " [60 61 62 63 64 65 66 67 68 69]\n",
      " [70 71 72 73 74 75 76 77 78 79]\n",
      " [ 0  0  0  0  0  0  0  0  0  0]\n",
      " [ 1  1  1  1  1  1  1  1  1  1]]\n",
      "\n",
      "After swapping:\n",
      "[[ 1  1  1  1  1  1  1  1  1  1]\n",
      " [ 0  0  0  0  0  0  0  0  0  0]\n",
      " [20 21 22 23 24 25 26 27 28 29]\n",
      " [30 31 32 33 34 35 36 37 38 39]\n",
      " [40 41 42 43 44 45 46 47 48 49]\n",
      " [50 51 52 53 54 55 56 57 58 59]\n",
      " [60 61 62 63 64 65 66 67 68 69]\n",
      " [70 71 72 73 74 75 76 77 78 79]\n",
      " [ 1  1  1  1  1  1  1  1  1  1]\n",
      " [ 0  0  0  0  0  0  0  0  0  0]]\n"
     ]
    }
   ],
   "source": [
    "import numpy as np\n",
    "\n",
    "# Start with a 10x10 matrix filled with numbers 1–100\n",
    "matrix = np.arange(0, 100).reshape(10, 10)\n",
    "\n",
    "# Overwrite the first two rows\n",
    "matrix[0] = 0\n",
    "matrix[1] = 1\n",
    "\n",
    "# Overwrite the last two rows\n",
    "matrix[-2] = 0\n",
    "matrix[-1] = 1\n",
    "#after swapping\n",
    "print(\"\\nBefore swapping:\")\n",
    "print(matrix)\n",
    "\n",
    "#after swapping\n",
    "print(\"\\nAfter swapping:\")\n",
    "matrix[[0,1]] = matrix[[1,0]]\n",
    "\n",
    "# Swap last row with its upper row\n",
    "matrix[[9,8]] = matrix[[8,9]]\n",
    "print(matrix)\n"
   ]
  }
 ],
 "metadata": {
  "kernelspec": {
   "display_name": "Python 3",
   "language": "python",
   "name": "python3"
  },
  "language_info": {
   "codemirror_mode": {
    "name": "ipython",
    "version": 3
   },
   "file_extension": ".py",
   "mimetype": "text/x-python",
   "name": "python",
   "nbconvert_exporter": "python",
   "pygments_lexer": "ipython3",
   "version": "3.13.7"
  }
 },
 "nbformat": 4,
 "nbformat_minor": 5
}
