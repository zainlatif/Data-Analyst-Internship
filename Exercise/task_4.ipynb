{
 "cells": [
  {
   "cell_type": "code",
   "execution_count": 5,
   "id": "bf91e9cc",
   "metadata": {},
   "outputs": [
    {
     "name": "stdout",
     "output_type": "stream",
     "text": [
      "\n",
      " info is below\n",
      "<class 'pandas.core.frame.DataFrame'>\n",
      "RangeIndex: 50 entries, 0 to 49\n",
      "Data columns (total 4 columns):\n",
      " #   Column        Non-Null Count  Dtype  \n",
      "---  ------        --------------  -----  \n",
      " 0   Name          50 non-null     object \n",
      " 1   Age           50 non-null     int64  \n",
      " 2   Education     50 non-null     object \n",
      " 3   Height(feet)  50 non-null     float64\n",
      "dtypes: float64(1), int64(1), object(2)\n",
      "memory usage: 1.7+ KB\n"
     ]
    }
   ],
   "source": [
    "# Import libraries\n",
    "import pandas as pd\n",
    "import random\n",
    "\n",
    "# Function to generate random names\n",
    "def generate_name():\n",
    "    first_names = [\"Ali\", \"Zain\", \"Ahmed\", \"Fatima\", \"Sara\", \"Usman\", \"Hina\", \"Bilal\", \"Maryam\", \"Hamza\"]\n",
    "    last_names = [\"Khan\", \"Latif\", \"Sheikh\", \"Rana\", \"Chaudhry\", \"Malik\", \"Hussain\", \"Shah\", \"Farooq\", \"Akhtar\"]\n",
    "    return random.choice(first_names) + \" \" + random.choice(last_names)\n",
    "\n",
    "# Education levels\n",
    "education_levels = [\"Matric\", \"Inter\", \"Bachelors\"]\n",
    "\n",
    "# Generate data\n",
    "data = []\n",
    "for _ in range(50):  # you can change 50 to how many rows you want\n",
    "    name = generate_name()\n",
    "    age = random.randint(18, 45)\n",
    "    education = random.choice(education_levels)\n",
    "    height = round(random.uniform(5.7, 7.0), 2)  # height in feet\n",
    "    \n",
    "    data.append([name, age, education, height])\n",
    "\n",
    "# Create DataFrame\n",
    "df = pd.DataFrame(data, columns=[\"Name\", \"Age\", \"Education\", \"Height(feet)\"])\n",
    "\n",
    "# Save to CSV\n",
    "df.to_csv(\"people_data.csv\", index=False)\n",
    "\n",
    "# Show first few rows\n",
    "df.head()\n",
    "print(\"\\n info is below\")\n",
    "df.info()\n"
   ]
  }
 ],
 "metadata": {
  "kernelspec": {
   "display_name": "Python 3",
   "language": "python",
   "name": "python3"
  },
  "language_info": {
   "codemirror_mode": {
    "name": "ipython",
    "version": 3
   },
   "file_extension": ".py",
   "mimetype": "text/x-python",
   "name": "python",
   "nbconvert_exporter": "python",
   "pygments_lexer": "ipython3",
   "version": "3.13.7"
  }
 },
 "nbformat": 4,
 "nbformat_minor": 5
}
