{
 "cells": [
  {
   "cell_type": "code",
   "execution_count": 1,
   "id": "c18b8388",
   "metadata": {},
   "outputs": [
    {
     "name": "stdout",
     "output_type": "stream",
     "text": [
      "CSV file saved as mydata.csv\n"
     ]
    }
   ],
   "source": [
    "import pandas as pd\n",
    "import numpy as np\n",
    "\n",
    "# number of rows\n",
    "n = 5  \n",
    "\n",
    "# create random data\n",
    "temperature = np.random.randint(15, 36, size=n)\n",
    "age = np.random.randint(18, 61, size=n)\n",
    "holiday = np.random.randint(0, 2, size=n)\n",
    "\n",
    "# make dataframe\n",
    "df = pd.DataFrame({\n",
    "    \"Temperature\": temperature,\n",
    "    \"Age\": age,\n",
    "    \"Holiday\": holiday\n",
    "})\n",
    "\n",
    "# save to CSV (no index)\n",
    "df.to_csv(\"mydata.csv\", index=False)\n",
    "\n",
    "print(\"CSV file saved as mydata.csv\")\n"
   ]
  }
 ],
 "metadata": {
  "kernelspec": {
   "display_name": "Python 3",
   "language": "python",
   "name": "python3"
  },
  "language_info": {
   "codemirror_mode": {
    "name": "ipython",
    "version": 3
   },
   "file_extension": ".py",
   "mimetype": "text/x-python",
   "name": "python",
   "nbconvert_exporter": "python",
   "pygments_lexer": "ipython3",
   "version": "3.13.7"
  }
 },
 "nbformat": 4,
 "nbformat_minor": 5
}
