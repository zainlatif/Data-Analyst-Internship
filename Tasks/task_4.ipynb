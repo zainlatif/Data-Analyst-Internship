{
 "cells": [
  {
   "cell_type": "code",
   "execution_count": 6,
   "id": "0f148031",
   "metadata": {},
   "outputs": [
    {
     "name": "stdout",
     "output_type": "stream",
     "text": [
      "CSV file saved as Candidate.csv\n",
      "Model Coefficients: [ 253.28990968 1026.61629901 7302.03262225  -26.92180132]\n",
      "Model Intercept: 6779.796111352989\n",
      "R² Accuracy Score: 0.9376030141759588\n",
      "R² Accuracy Score: 93.8 %\n"
     ]
    }
   ],
   "source": [
    "import pandas as pd\n",
    "import numpy as np\n",
    "from sklearn.linear_model import LinearRegression\n",
    "from sklearn.model_selection import train_test_split\n",
    "from sklearn.metrics import r2_score\n",
    "\n",
    "# Number of rows\n",
    "n = 40  \n",
    "\n",
    "# Generate synthetic data\n",
    "np.random.seed(42)  # reproducibility\n",
    "temperature = np.random.randint(15, 36, size=n)\n",
    "age = np.random.randint(18, 61, size=n)\n",
    "holiday = np.random.randint(0, 2, size=n)\n",
    "height = np.random.randint(150, 200, size=n)\n",
    "\n",
    "# Create salary with linear relation + noise\n",
    "salaries = (age * 1000) + (height * 20) + (holiday * 10000) + (temperature * 200) + np.random.randint(-5000, 5000, size=n)\n",
    "\n",
    "# Create DataFrame\n",
    "df = pd.DataFrame({\n",
    "    \"Temperature\": temperature,\n",
    "    \"Age\": age,\n",
    "    \"Holiday\": holiday,\n",
    "    \"Salaries\": salaries,\n",
    "    \"Height\": height\n",
    "})\n",
    "\n",
    "# Save to CSV\n",
    "df.to_csv(\"Candidate.csv\", index=False)\n",
    "print(\"CSV file saved as Candidate.csv\")\n",
    "\n",
    "# ----------------------\n",
    "# Apply Linear Regression\n",
    "# ----------------------\n",
    "\n",
    "# Features (independent variables)\n",
    "X = df[[\"Temperature\", \"Age\", \"Holiday\", \"Height\"]]\n",
    "\n",
    "# Target (dependent variable)\n",
    "y = df[\"Salaries\"]\n",
    "\n",
    "# Split data (70% training, 30% testing)\n",
    "X_train, X_test, y_train, y_test = train_test_split(X, y, test_size=0.3, random_state=42)\n",
    "\n",
    "# Create and train model\n",
    "model = LinearRegression()\n",
    "model.fit(X_train, y_train)\n",
    "\n",
    "# Make predictions\n",
    "y_pred = model.predict(X_test)\n",
    "\n",
    "# Evaluate model\n",
    "accuracy = r2_score(y_test, y_pred)\n",
    "\n",
    "print(\"Model Coefficients:\", model.coef_)\n",
    "print(\"Model Intercept:\", model.intercept_)\n",
    "print(\"R² Accuracy Score:\", accuracy)\n",
    "print(\"R² Accuracy Score:\", round(accuracy,3)*100, \"%\")\n"
   ]
  }
 ],
 "metadata": {
  "kernelspec": {
   "display_name": "Python 3",
   "language": "python",
   "name": "python3"
  },
  "language_info": {
   "codemirror_mode": {
    "name": "ipython",
    "version": 3
   },
   "file_extension": ".py",
   "mimetype": "text/x-python",
   "name": "python",
   "nbconvert_exporter": "python",
   "pygments_lexer": "ipython3",
   "version": "3.13.7"
  }
 },
 "nbformat": 4,
 "nbformat_minor": 5
}
